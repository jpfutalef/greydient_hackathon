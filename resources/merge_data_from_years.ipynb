{
 "cells": [
  {
   "cell_type": "code",
   "execution_count": 5,
   "metadata": {
    "collapsed": true,
    "ExecuteTime": {
     "start_time": "2023-11-13T23:24:32.461417Z",
     "end_time": "2023-11-13T23:24:32.917111Z"
    }
   },
   "outputs": [],
   "source": [
    "from pathlib import Path\n",
    "import pandas as pd"
   ]
  },
  {
   "cell_type": "code",
   "execution_count": 2,
   "outputs": [],
   "source": [
    "paths = [\"../data/Unfallorte2018_LinRef.txt\",\n",
    "         \"../data/Unfallorte2019_LinRef.txt\",\n",
    "         \"../data/Unfallorte2020_LinRef.csv\",\n",
    "         \"../data/Unfallorte2021_EPSG25832_CSV.csv\",\n",
    "         \"../data/Unfallorte2022_LinRef.csv\"]\n",
    "\n",
    "paths = [Path(x) for x in paths]"
   ],
   "metadata": {
    "collapsed": false,
    "ExecuteTime": {
     "start_time": "2023-11-13T23:22:03.963512Z",
     "end_time": "2023-11-13T23:22:03.967895Z"
    }
   }
  },
  {
   "cell_type": "code",
   "execution_count": 6,
   "outputs": [
    {
     "name": "stderr",
     "output_type": "stream",
     "text": [
      "/var/folders/6m/7nl51tj52xs6fvrj0cm_trjm0000gn/T/ipykernel_47307/2712671626.py:5: UserWarning: Boolean Series key will be reindexed to match DataFrame index.\n",
      "  filtered = filtered[df[\"UREGBEZ\"] == 1]\n",
      "/var/folders/6m/7nl51tj52xs6fvrj0cm_trjm0000gn/T/ipykernel_47307/2712671626.py:6: UserWarning: Boolean Series key will be reindexed to match DataFrame index.\n",
      "  filtered = filtered[df[\"UKREIS\"] == 62]\n",
      "/var/folders/6m/7nl51tj52xs6fvrj0cm_trjm0000gn/T/ipykernel_47307/2712671626.py:5: UserWarning: Boolean Series key will be reindexed to match DataFrame index.\n",
      "  filtered = filtered[df[\"UREGBEZ\"] == 1]\n",
      "/var/folders/6m/7nl51tj52xs6fvrj0cm_trjm0000gn/T/ipykernel_47307/2712671626.py:6: UserWarning: Boolean Series key will be reindexed to match DataFrame index.\n",
      "  filtered = filtered[df[\"UKREIS\"] == 62]\n",
      "/var/folders/6m/7nl51tj52xs6fvrj0cm_trjm0000gn/T/ipykernel_47307/2712671626.py:5: UserWarning: Boolean Series key will be reindexed to match DataFrame index.\n",
      "  filtered = filtered[df[\"UREGBEZ\"] == 1]\n",
      "/var/folders/6m/7nl51tj52xs6fvrj0cm_trjm0000gn/T/ipykernel_47307/2712671626.py:6: UserWarning: Boolean Series key will be reindexed to match DataFrame index.\n",
      "  filtered = filtered[df[\"UKREIS\"] == 62]\n",
      "/var/folders/6m/7nl51tj52xs6fvrj0cm_trjm0000gn/T/ipykernel_47307/2712671626.py:5: UserWarning: Boolean Series key will be reindexed to match DataFrame index.\n",
      "  filtered = filtered[df[\"UREGBEZ\"] == 1]\n",
      "/var/folders/6m/7nl51tj52xs6fvrj0cm_trjm0000gn/T/ipykernel_47307/2712671626.py:6: UserWarning: Boolean Series key will be reindexed to match DataFrame index.\n",
      "  filtered = filtered[df[\"UKREIS\"] == 62]\n",
      "/var/folders/6m/7nl51tj52xs6fvrj0cm_trjm0000gn/T/ipykernel_47307/2712671626.py:3: DtypeWarning: Columns (1) have mixed types. Specify dtype option on import or set low_memory=False.\n",
      "  df = pd.read_csv(path, header=0, sep=\";\", index_col=0, decimal=\",\")\n",
      "/var/folders/6m/7nl51tj52xs6fvrj0cm_trjm0000gn/T/ipykernel_47307/2712671626.py:5: UserWarning: Boolean Series key will be reindexed to match DataFrame index.\n",
      "  filtered = filtered[df[\"UREGBEZ\"] == 1]\n",
      "/var/folders/6m/7nl51tj52xs6fvrj0cm_trjm0000gn/T/ipykernel_47307/2712671626.py:6: UserWarning: Boolean Series key will be reindexed to match DataFrame index.\n",
      "  filtered = filtered[df[\"UKREIS\"] == 62]\n"
     ]
    }
   ],
   "source": [
    "dfs = []\n",
    "for path in paths:\n",
    "    df = pd.read_csv(path, header=0, sep=\";\", index_col=0, decimal=\",\")\n",
    "    filtered = df[df[\"ULAND\"] == 9]\n",
    "    filtered = filtered[df[\"UREGBEZ\"] == 1]\n",
    "    filtered = filtered[df[\"UKREIS\"] == 62]\n",
    "    dfs.append(filtered)"
   ],
   "metadata": {
    "collapsed": false,
    "ExecuteTime": {
     "start_time": "2023-11-13T23:25:55.616690Z",
     "end_time": "2023-11-13T23:25:56.944264Z"
    }
   }
  },
  {
   "cell_type": "code",
   "execution_count": 8,
   "outputs": [
    {
     "data": {
      "text/plain": "        ULAND  UREGBEZ  UKREIS  UGEMEINDE  UJAHR  UMONAT  USTUNDE  UWOCHENTAG  \\\n72526       9        1      62          0   2018       1       16           3   \n72693       9        1      62          0   2018       1       11           4   \n72914       9        1      62          0   2018       1       14           3   \n73043       9        1      62          0   2018       1       12           3   \n73084       9        1      62          0   2018       1       20           4   \n...       ...      ...     ...        ...    ...     ...      ...         ...   \n229053      9        1      62          0   2022      12       18           7   \n229423      9        1      62          0   2022      12       12           7   \n229450      9        1      62          0   2022      12       14           7   \n229642      9        1      62          0   2022      12        7           7   \n229695      9        1      62          0   2022      12        8           7   \n\n        UKATEGORIE  UART  ...  IstSonstig  STRZUSTAND        LINREFX  \\\n72526            3     2  ...         0.0         1.0  694902.583700   \n72693            3     5  ...         0.0         1.0  685305.227000   \n72914            3     2  ...         0.0         0.0  689644.894100   \n73043            3     2  ...         0.0         0.0  694723.335000   \n73084            2     1  ...         0.0         0.0  691709.228700   \n...            ...   ...  ...         ...         ...            ...   \n229053           3     5  ...         NaN         NaN  692177.157061   \n229423           3     0  ...         NaN         NaN  690199.456967   \n229450           3     5  ...         NaN         NaN  688390.466532   \n229642           3     3  ...         NaN         NaN  692060.823447   \n229695           3     6  ...         NaN         NaN  685258.059948   \n\n             LINREFY  XGCSWGS84  YGCSWGS84  IstSonstige           UIDENTSTLAE  \\\n72526   5.332742e+06  11.618872  48.118080          NaN                   NaN   \n72693   5.328872e+06  11.488363  48.086156          NaN                   NaN   \n72914   5.340130e+06  11.551591  48.186072          NaN                   NaN   \n73043   5.332193e+06  11.616216  48.113203          NaN                   NaN   \n73084   5.331774e+06  11.575574  48.110352          NaN                   NaN   \n...              ...        ...        ...          ...                   ...   \n229053  5.331130e+06  11.581564  48.104424          1.0   9221231008523567990   \n229423  5.335427e+06  11.556942  48.143640          0.0  09221231008582588790   \n229450  5.328167e+06  11.529441  48.078922          0.0  09221231008529577500   \n229642  5.334569e+06  11.581552  48.135363          0.0  09221231008522584840   \n229695  5.334939e+06  11.490366  48.140703          0.0  09221231008571567520   \n\n        USTRZUSTAND  IstStrassenzustand  \n72526           NaN                 NaN  \n72693           NaN                 NaN  \n72914           NaN                 NaN  \n73043           NaN                 NaN  \n73084           NaN                 NaN  \n...             ...                 ...  \n229053          NaN                 0.0  \n229423          NaN                 0.0  \n229450          NaN                 0.0  \n229642          NaN                 0.0  \n229695          NaN                 0.0  \n\n[23988 rows x 27 columns]",
      "text/html": "<div>\n<style scoped>\n    .dataframe tbody tr th:only-of-type {\n        vertical-align: middle;\n    }\n\n    .dataframe tbody tr th {\n        vertical-align: top;\n    }\n\n    .dataframe thead th {\n        text-align: right;\n    }\n</style>\n<table border=\"1\" class=\"dataframe\">\n  <thead>\n    <tr style=\"text-align: right;\">\n      <th></th>\n      <th>ULAND</th>\n      <th>UREGBEZ</th>\n      <th>UKREIS</th>\n      <th>UGEMEINDE</th>\n      <th>UJAHR</th>\n      <th>UMONAT</th>\n      <th>USTUNDE</th>\n      <th>UWOCHENTAG</th>\n      <th>UKATEGORIE</th>\n      <th>UART</th>\n      <th>...</th>\n      <th>IstSonstig</th>\n      <th>STRZUSTAND</th>\n      <th>LINREFX</th>\n      <th>LINREFY</th>\n      <th>XGCSWGS84</th>\n      <th>YGCSWGS84</th>\n      <th>IstSonstige</th>\n      <th>UIDENTSTLAE</th>\n      <th>USTRZUSTAND</th>\n      <th>IstStrassenzustand</th>\n    </tr>\n  </thead>\n  <tbody>\n    <tr>\n      <th>72526</th>\n      <td>9</td>\n      <td>1</td>\n      <td>62</td>\n      <td>0</td>\n      <td>2018</td>\n      <td>1</td>\n      <td>16</td>\n      <td>3</td>\n      <td>3</td>\n      <td>2</td>\n      <td>...</td>\n      <td>0.0</td>\n      <td>1.0</td>\n      <td>694902.583700</td>\n      <td>5.332742e+06</td>\n      <td>11.618872</td>\n      <td>48.118080</td>\n      <td>NaN</td>\n      <td>NaN</td>\n      <td>NaN</td>\n      <td>NaN</td>\n    </tr>\n    <tr>\n      <th>72693</th>\n      <td>9</td>\n      <td>1</td>\n      <td>62</td>\n      <td>0</td>\n      <td>2018</td>\n      <td>1</td>\n      <td>11</td>\n      <td>4</td>\n      <td>3</td>\n      <td>5</td>\n      <td>...</td>\n      <td>0.0</td>\n      <td>1.0</td>\n      <td>685305.227000</td>\n      <td>5.328872e+06</td>\n      <td>11.488363</td>\n      <td>48.086156</td>\n      <td>NaN</td>\n      <td>NaN</td>\n      <td>NaN</td>\n      <td>NaN</td>\n    </tr>\n    <tr>\n      <th>72914</th>\n      <td>9</td>\n      <td>1</td>\n      <td>62</td>\n      <td>0</td>\n      <td>2018</td>\n      <td>1</td>\n      <td>14</td>\n      <td>3</td>\n      <td>3</td>\n      <td>2</td>\n      <td>...</td>\n      <td>0.0</td>\n      <td>0.0</td>\n      <td>689644.894100</td>\n      <td>5.340130e+06</td>\n      <td>11.551591</td>\n      <td>48.186072</td>\n      <td>NaN</td>\n      <td>NaN</td>\n      <td>NaN</td>\n      <td>NaN</td>\n    </tr>\n    <tr>\n      <th>73043</th>\n      <td>9</td>\n      <td>1</td>\n      <td>62</td>\n      <td>0</td>\n      <td>2018</td>\n      <td>1</td>\n      <td>12</td>\n      <td>3</td>\n      <td>3</td>\n      <td>2</td>\n      <td>...</td>\n      <td>0.0</td>\n      <td>0.0</td>\n      <td>694723.335000</td>\n      <td>5.332193e+06</td>\n      <td>11.616216</td>\n      <td>48.113203</td>\n      <td>NaN</td>\n      <td>NaN</td>\n      <td>NaN</td>\n      <td>NaN</td>\n    </tr>\n    <tr>\n      <th>73084</th>\n      <td>9</td>\n      <td>1</td>\n      <td>62</td>\n      <td>0</td>\n      <td>2018</td>\n      <td>1</td>\n      <td>20</td>\n      <td>4</td>\n      <td>2</td>\n      <td>1</td>\n      <td>...</td>\n      <td>0.0</td>\n      <td>0.0</td>\n      <td>691709.228700</td>\n      <td>5.331774e+06</td>\n      <td>11.575574</td>\n      <td>48.110352</td>\n      <td>NaN</td>\n      <td>NaN</td>\n      <td>NaN</td>\n      <td>NaN</td>\n    </tr>\n    <tr>\n      <th>...</th>\n      <td>...</td>\n      <td>...</td>\n      <td>...</td>\n      <td>...</td>\n      <td>...</td>\n      <td>...</td>\n      <td>...</td>\n      <td>...</td>\n      <td>...</td>\n      <td>...</td>\n      <td>...</td>\n      <td>...</td>\n      <td>...</td>\n      <td>...</td>\n      <td>...</td>\n      <td>...</td>\n      <td>...</td>\n      <td>...</td>\n      <td>...</td>\n      <td>...</td>\n      <td>...</td>\n    </tr>\n    <tr>\n      <th>229053</th>\n      <td>9</td>\n      <td>1</td>\n      <td>62</td>\n      <td>0</td>\n      <td>2022</td>\n      <td>12</td>\n      <td>18</td>\n      <td>7</td>\n      <td>3</td>\n      <td>5</td>\n      <td>...</td>\n      <td>NaN</td>\n      <td>NaN</td>\n      <td>692177.157061</td>\n      <td>5.331130e+06</td>\n      <td>11.581564</td>\n      <td>48.104424</td>\n      <td>1.0</td>\n      <td>9221231008523567990</td>\n      <td>NaN</td>\n      <td>0.0</td>\n    </tr>\n    <tr>\n      <th>229423</th>\n      <td>9</td>\n      <td>1</td>\n      <td>62</td>\n      <td>0</td>\n      <td>2022</td>\n      <td>12</td>\n      <td>12</td>\n      <td>7</td>\n      <td>3</td>\n      <td>0</td>\n      <td>...</td>\n      <td>NaN</td>\n      <td>NaN</td>\n      <td>690199.456967</td>\n      <td>5.335427e+06</td>\n      <td>11.556942</td>\n      <td>48.143640</td>\n      <td>0.0</td>\n      <td>09221231008582588790</td>\n      <td>NaN</td>\n      <td>0.0</td>\n    </tr>\n    <tr>\n      <th>229450</th>\n      <td>9</td>\n      <td>1</td>\n      <td>62</td>\n      <td>0</td>\n      <td>2022</td>\n      <td>12</td>\n      <td>14</td>\n      <td>7</td>\n      <td>3</td>\n      <td>5</td>\n      <td>...</td>\n      <td>NaN</td>\n      <td>NaN</td>\n      <td>688390.466532</td>\n      <td>5.328167e+06</td>\n      <td>11.529441</td>\n      <td>48.078922</td>\n      <td>0.0</td>\n      <td>09221231008529577500</td>\n      <td>NaN</td>\n      <td>0.0</td>\n    </tr>\n    <tr>\n      <th>229642</th>\n      <td>9</td>\n      <td>1</td>\n      <td>62</td>\n      <td>0</td>\n      <td>2022</td>\n      <td>12</td>\n      <td>7</td>\n      <td>7</td>\n      <td>3</td>\n      <td>3</td>\n      <td>...</td>\n      <td>NaN</td>\n      <td>NaN</td>\n      <td>692060.823447</td>\n      <td>5.334569e+06</td>\n      <td>11.581552</td>\n      <td>48.135363</td>\n      <td>0.0</td>\n      <td>09221231008522584840</td>\n      <td>NaN</td>\n      <td>0.0</td>\n    </tr>\n    <tr>\n      <th>229695</th>\n      <td>9</td>\n      <td>1</td>\n      <td>62</td>\n      <td>0</td>\n      <td>2022</td>\n      <td>12</td>\n      <td>8</td>\n      <td>7</td>\n      <td>3</td>\n      <td>6</td>\n      <td>...</td>\n      <td>NaN</td>\n      <td>NaN</td>\n      <td>685258.059948</td>\n      <td>5.334939e+06</td>\n      <td>11.490366</td>\n      <td>48.140703</td>\n      <td>0.0</td>\n      <td>09221231008571567520</td>\n      <td>NaN</td>\n      <td>0.0</td>\n    </tr>\n  </tbody>\n</table>\n<p>23988 rows × 27 columns</p>\n</div>"
     },
     "execution_count": 8,
     "metadata": {},
     "output_type": "execute_result"
    }
   ],
   "source": [
    "full_df = pd.concat(dfs)\n",
    "full_df"
   ],
   "metadata": {
    "collapsed": false,
    "ExecuteTime": {
     "start_time": "2023-11-13T23:39:55.133675Z",
     "end_time": "2023-11-13T23:39:55.158132Z"
    }
   }
  },
  {
   "cell_type": "code",
   "execution_count": 10,
   "outputs": [],
   "source": [
    "full_df.to_csv(\"../data/merged_accident_data.csv\")"
   ],
   "metadata": {
    "collapsed": false,
    "ExecuteTime": {
     "start_time": "2023-11-13T23:41:55.262097Z",
     "end_time": "2023-11-13T23:41:55.393752Z"
    }
   }
  },
  {
   "cell_type": "code",
   "execution_count": null,
   "outputs": [],
   "source": [],
   "metadata": {
    "collapsed": false
   }
  }
 ],
 "metadata": {
  "kernelspec": {
   "display_name": "Python 3",
   "language": "python",
   "name": "python3"
  },
  "language_info": {
   "codemirror_mode": {
    "name": "ipython",
    "version": 2
   },
   "file_extension": ".py",
   "mimetype": "text/x-python",
   "name": "python",
   "nbconvert_exporter": "python",
   "pygments_lexer": "ipython2",
   "version": "2.7.6"
  }
 },
 "nbformat": 4,
 "nbformat_minor": 0
}
