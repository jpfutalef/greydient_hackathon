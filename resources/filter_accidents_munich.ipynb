{
 "cells": [
  {
   "cell_type": "code",
   "execution_count": 1,
   "outputs": [],
   "source": [
    "import pandas as pd"
   ],
   "metadata": {
    "collapsed": false,
    "ExecuteTime": {
     "start_time": "2023-11-13T15:47:32.170729Z",
     "end_time": "2023-11-13T15:47:32.605975Z"
    }
   }
  },
  {
   "cell_type": "code",
   "execution_count": 9,
   "metadata": {
    "collapsed": true,
    "ExecuteTime": {
     "start_time": "2023-11-13T15:53:19.061100Z",
     "end_time": "2023-11-13T15:53:19.361220Z"
    }
   },
   "outputs": [
    {
     "name": "stderr",
     "output_type": "stream",
     "text": [
      "/var/folders/6m/7nl51tj52xs6fvrj0cm_trjm0000gn/T/ipykernel_18331/758159177.py:1: DtypeWarning: Columns (1) have mixed types. Specify dtype option on import or set low_memory=False.\n",
      "  df = pd.read_csv(\"../data/Unfallorte2022_LinRef.csv\", header=0, sep=\";\", index_col=0, decimal=\",\")\n"
     ]
    }
   ],
   "source": [
    "df = pd.read_csv(\"../data/Unfallorte2022_LinRef.csv\", header=0, sep=\";\", index_col=0, decimal=\",\")"
   ]
  },
  {
   "cell_type": "code",
   "execution_count": 10,
   "outputs": [
    {
     "data": {
      "text/plain": "UIDENTSTLAE            object\nULAND                   int64\nUREGBEZ                 int64\nUKREIS                  int64\nUGEMEINDE               int64\nUJAHR                   int64\nUMONAT                  int64\nUSTUNDE                 int64\nUWOCHENTAG              int64\nUKATEGORIE              int64\nUART                    int64\nUTYP1                   int64\nULICHTVERH              int64\nIstStrassenzustand      int64\nIstRad                  int64\nIstPKW                  int64\nIstFuss                 int64\nIstKrad                 int64\nIstGkfz                 int64\nIstSonstige             int64\nLINREFX               float64\nLINREFY               float64\nXGCSWGS84             float64\nYGCSWGS84             float64\ndtype: object"
     },
     "execution_count": 10,
     "metadata": {},
     "output_type": "execute_result"
    }
   ],
   "source": [
    "df.dtypes"
   ],
   "metadata": {
    "collapsed": false,
    "ExecuteTime": {
     "start_time": "2023-11-13T15:53:21.036719Z",
     "end_time": "2023-11-13T15:53:21.040376Z"
    }
   }
  },
  {
   "cell_type": "code",
   "execution_count": 11,
   "outputs": [
    {
     "name": "stderr",
     "output_type": "stream",
     "text": [
      "/var/folders/6m/7nl51tj52xs6fvrj0cm_trjm0000gn/T/ipykernel_18331/3853214792.py:2: UserWarning: Boolean Series key will be reindexed to match DataFrame index.\n",
      "  filtered = filtered[df[\"UREGBEZ\"] == 1]\n",
      "/var/folders/6m/7nl51tj52xs6fvrj0cm_trjm0000gn/T/ipykernel_18331/3853214792.py:3: UserWarning: Boolean Series key will be reindexed to match DataFrame index.\n",
      "  filtered = filtered[df[\"UKREIS\"] == 62]\n"
     ]
    },
    {
     "data": {
      "text/plain": "                   UIDENTSTLAE  ULAND  UREGBEZ  UKREIS  UGEMEINDE  UJAHR  \\\nOBJECTID                                                                   \n95163      9220101008582061640      9        1      62          0   2022   \n95440      9220101008542000480      9        1      62          0   2022   \n95528      9220105008582010580      9        1      62          0   2022   \n95807      9220108008545029640      9        1      62          0   2022   \n95989      9220107008582006800      9        1      62          0   2022   \n...                        ...    ...      ...     ...        ...    ...   \n229053     9221231008523567990      9        1      62          0   2022   \n229423    09221231008582588790      9        1      62          0   2022   \n229450    09221231008529577500      9        1      62          0   2022   \n229642    09221231008522584840      9        1      62          0   2022   \n229695    09221231008571567520      9        1      62          0   2022   \n\n          UMONAT  USTUNDE  UWOCHENTAG  UKATEGORIE  ...  IstRad  IstPKW  \\\nOBJECTID                                           ...                   \n95163          1       12           7           3  ...       0       1   \n95440          1        9           7           3  ...       0       1   \n95528          1       12           4           2  ...       0       1   \n95807          1       14           7           3  ...       0       1   \n95989          1       13           6           3  ...       0       1   \n...          ...      ...         ...         ...  ...     ...     ...   \n229053        12       18           7           3  ...       0       1   \n229423        12       12           7           3  ...       1       0   \n229450        12       14           7           3  ...       0       1   \n229642        12        7           7           3  ...       1       1   \n229695        12        8           7           3  ...       0       1   \n\n          IstFuss  IstKrad  IstGkfz  IstSonstige        LINREFX       LINREFY  \\\nOBJECTID                                                                        \n95163           0        0        0            0  693842.154441  5.331647e+06   \n95440           0        0        0            0  688792.974622  5.339434e+06   \n95528           0        0        0            0  693552.765631  5.331547e+06   \n95807           0        0        0            0  677943.893723  5.335310e+06   \n95989           0        0        0            0  694640.792260  5.334487e+06   \n...           ...      ...      ...          ...            ...           ...   \n229053          0        0        0            1  692177.157061  5.331130e+06   \n229423          0        0        0            0  690199.456967  5.335427e+06   \n229450          0        1        0            0  688390.466532  5.328167e+06   \n229642          0        0        0            0  692060.823447  5.334569e+06   \n229695          1        0        0            0  685258.059948  5.334939e+06   \n\n          XGCSWGS84  YGCSWGS84  \nOBJECTID                        \n95163     11.604141  48.108560  \n95440     11.539832  48.180074  \n95528     11.600212  48.107752  \n95807     11.392290  48.146132  \n95989     11.616156  48.133848  \n...             ...        ...  \n229053    11.581564  48.104424  \n229423    11.556942  48.143640  \n229450    11.529441  48.078922  \n229642    11.581552  48.135363  \n229695    11.490366  48.140703  \n\n[4899 rows x 24 columns]",
      "text/html": "<div>\n<style scoped>\n    .dataframe tbody tr th:only-of-type {\n        vertical-align: middle;\n    }\n\n    .dataframe tbody tr th {\n        vertical-align: top;\n    }\n\n    .dataframe thead th {\n        text-align: right;\n    }\n</style>\n<table border=\"1\" class=\"dataframe\">\n  <thead>\n    <tr style=\"text-align: right;\">\n      <th></th>\n      <th>UIDENTSTLAE</th>\n      <th>ULAND</th>\n      <th>UREGBEZ</th>\n      <th>UKREIS</th>\n      <th>UGEMEINDE</th>\n      <th>UJAHR</th>\n      <th>UMONAT</th>\n      <th>USTUNDE</th>\n      <th>UWOCHENTAG</th>\n      <th>UKATEGORIE</th>\n      <th>...</th>\n      <th>IstRad</th>\n      <th>IstPKW</th>\n      <th>IstFuss</th>\n      <th>IstKrad</th>\n      <th>IstGkfz</th>\n      <th>IstSonstige</th>\n      <th>LINREFX</th>\n      <th>LINREFY</th>\n      <th>XGCSWGS84</th>\n      <th>YGCSWGS84</th>\n    </tr>\n    <tr>\n      <th>OBJECTID</th>\n      <th></th>\n      <th></th>\n      <th></th>\n      <th></th>\n      <th></th>\n      <th></th>\n      <th></th>\n      <th></th>\n      <th></th>\n      <th></th>\n      <th></th>\n      <th></th>\n      <th></th>\n      <th></th>\n      <th></th>\n      <th></th>\n      <th></th>\n      <th></th>\n      <th></th>\n      <th></th>\n      <th></th>\n    </tr>\n  </thead>\n  <tbody>\n    <tr>\n      <th>95163</th>\n      <td>9220101008582061640</td>\n      <td>9</td>\n      <td>1</td>\n      <td>62</td>\n      <td>0</td>\n      <td>2022</td>\n      <td>1</td>\n      <td>12</td>\n      <td>7</td>\n      <td>3</td>\n      <td>...</td>\n      <td>0</td>\n      <td>1</td>\n      <td>0</td>\n      <td>0</td>\n      <td>0</td>\n      <td>0</td>\n      <td>693842.154441</td>\n      <td>5.331647e+06</td>\n      <td>11.604141</td>\n      <td>48.108560</td>\n    </tr>\n    <tr>\n      <th>95440</th>\n      <td>9220101008542000480</td>\n      <td>9</td>\n      <td>1</td>\n      <td>62</td>\n      <td>0</td>\n      <td>2022</td>\n      <td>1</td>\n      <td>9</td>\n      <td>7</td>\n      <td>3</td>\n      <td>...</td>\n      <td>0</td>\n      <td>1</td>\n      <td>0</td>\n      <td>0</td>\n      <td>0</td>\n      <td>0</td>\n      <td>688792.974622</td>\n      <td>5.339434e+06</td>\n      <td>11.539832</td>\n      <td>48.180074</td>\n    </tr>\n    <tr>\n      <th>95528</th>\n      <td>9220105008582010580</td>\n      <td>9</td>\n      <td>1</td>\n      <td>62</td>\n      <td>0</td>\n      <td>2022</td>\n      <td>1</td>\n      <td>12</td>\n      <td>4</td>\n      <td>2</td>\n      <td>...</td>\n      <td>0</td>\n      <td>1</td>\n      <td>0</td>\n      <td>0</td>\n      <td>0</td>\n      <td>0</td>\n      <td>693552.765631</td>\n      <td>5.331547e+06</td>\n      <td>11.600212</td>\n      <td>48.107752</td>\n    </tr>\n    <tr>\n      <th>95807</th>\n      <td>9220108008545029640</td>\n      <td>9</td>\n      <td>1</td>\n      <td>62</td>\n      <td>0</td>\n      <td>2022</td>\n      <td>1</td>\n      <td>14</td>\n      <td>7</td>\n      <td>3</td>\n      <td>...</td>\n      <td>0</td>\n      <td>1</td>\n      <td>0</td>\n      <td>0</td>\n      <td>0</td>\n      <td>0</td>\n      <td>677943.893723</td>\n      <td>5.335310e+06</td>\n      <td>11.392290</td>\n      <td>48.146132</td>\n    </tr>\n    <tr>\n      <th>95989</th>\n      <td>9220107008582006800</td>\n      <td>9</td>\n      <td>1</td>\n      <td>62</td>\n      <td>0</td>\n      <td>2022</td>\n      <td>1</td>\n      <td>13</td>\n      <td>6</td>\n      <td>3</td>\n      <td>...</td>\n      <td>0</td>\n      <td>1</td>\n      <td>0</td>\n      <td>0</td>\n      <td>0</td>\n      <td>0</td>\n      <td>694640.792260</td>\n      <td>5.334487e+06</td>\n      <td>11.616156</td>\n      <td>48.133848</td>\n    </tr>\n    <tr>\n      <th>...</th>\n      <td>...</td>\n      <td>...</td>\n      <td>...</td>\n      <td>...</td>\n      <td>...</td>\n      <td>...</td>\n      <td>...</td>\n      <td>...</td>\n      <td>...</td>\n      <td>...</td>\n      <td>...</td>\n      <td>...</td>\n      <td>...</td>\n      <td>...</td>\n      <td>...</td>\n      <td>...</td>\n      <td>...</td>\n      <td>...</td>\n      <td>...</td>\n      <td>...</td>\n      <td>...</td>\n    </tr>\n    <tr>\n      <th>229053</th>\n      <td>9221231008523567990</td>\n      <td>9</td>\n      <td>1</td>\n      <td>62</td>\n      <td>0</td>\n      <td>2022</td>\n      <td>12</td>\n      <td>18</td>\n      <td>7</td>\n      <td>3</td>\n      <td>...</td>\n      <td>0</td>\n      <td>1</td>\n      <td>0</td>\n      <td>0</td>\n      <td>0</td>\n      <td>1</td>\n      <td>692177.157061</td>\n      <td>5.331130e+06</td>\n      <td>11.581564</td>\n      <td>48.104424</td>\n    </tr>\n    <tr>\n      <th>229423</th>\n      <td>09221231008582588790</td>\n      <td>9</td>\n      <td>1</td>\n      <td>62</td>\n      <td>0</td>\n      <td>2022</td>\n      <td>12</td>\n      <td>12</td>\n      <td>7</td>\n      <td>3</td>\n      <td>...</td>\n      <td>1</td>\n      <td>0</td>\n      <td>0</td>\n      <td>0</td>\n      <td>0</td>\n      <td>0</td>\n      <td>690199.456967</td>\n      <td>5.335427e+06</td>\n      <td>11.556942</td>\n      <td>48.143640</td>\n    </tr>\n    <tr>\n      <th>229450</th>\n      <td>09221231008529577500</td>\n      <td>9</td>\n      <td>1</td>\n      <td>62</td>\n      <td>0</td>\n      <td>2022</td>\n      <td>12</td>\n      <td>14</td>\n      <td>7</td>\n      <td>3</td>\n      <td>...</td>\n      <td>0</td>\n      <td>1</td>\n      <td>0</td>\n      <td>1</td>\n      <td>0</td>\n      <td>0</td>\n      <td>688390.466532</td>\n      <td>5.328167e+06</td>\n      <td>11.529441</td>\n      <td>48.078922</td>\n    </tr>\n    <tr>\n      <th>229642</th>\n      <td>09221231008522584840</td>\n      <td>9</td>\n      <td>1</td>\n      <td>62</td>\n      <td>0</td>\n      <td>2022</td>\n      <td>12</td>\n      <td>7</td>\n      <td>7</td>\n      <td>3</td>\n      <td>...</td>\n      <td>1</td>\n      <td>1</td>\n      <td>0</td>\n      <td>0</td>\n      <td>0</td>\n      <td>0</td>\n      <td>692060.823447</td>\n      <td>5.334569e+06</td>\n      <td>11.581552</td>\n      <td>48.135363</td>\n    </tr>\n    <tr>\n      <th>229695</th>\n      <td>09221231008571567520</td>\n      <td>9</td>\n      <td>1</td>\n      <td>62</td>\n      <td>0</td>\n      <td>2022</td>\n      <td>12</td>\n      <td>8</td>\n      <td>7</td>\n      <td>3</td>\n      <td>...</td>\n      <td>0</td>\n      <td>1</td>\n      <td>1</td>\n      <td>0</td>\n      <td>0</td>\n      <td>0</td>\n      <td>685258.059948</td>\n      <td>5.334939e+06</td>\n      <td>11.490366</td>\n      <td>48.140703</td>\n    </tr>\n  </tbody>\n</table>\n<p>4899 rows × 24 columns</p>\n</div>"
     },
     "execution_count": 11,
     "metadata": {},
     "output_type": "execute_result"
    }
   ],
   "source": [
    "filtered = df[df[\"ULAND\"] == 9]\n",
    "filtered = filtered[df[\"UREGBEZ\"] == 1]\n",
    "filtered = filtered[df[\"UKREIS\"] == 62]\n",
    "filtered"
   ],
   "metadata": {
    "collapsed": false,
    "ExecuteTime": {
     "start_time": "2023-11-13T15:53:26.272397Z",
     "end_time": "2023-11-13T15:53:26.297459Z"
    }
   }
  },
  {
   "cell_type": "code",
   "execution_count": 12,
   "outputs": [],
   "source": [
    "filtered.to_csv(\"../data/filtered_munich_accidents.csv\")"
   ],
   "metadata": {
    "collapsed": false,
    "ExecuteTime": {
     "start_time": "2023-11-13T15:53:28.168861Z",
     "end_time": "2023-11-13T15:53:28.221818Z"
    }
   }
  },
  {
   "cell_type": "code",
   "execution_count": null,
   "outputs": [],
   "source": [],
   "metadata": {
    "collapsed": false
   }
  }
 ],
 "metadata": {
  "kernelspec": {
   "display_name": "Python 3",
   "language": "python",
   "name": "python3"
  },
  "language_info": {
   "codemirror_mode": {
    "name": "ipython",
    "version": 2
   },
   "file_extension": ".py",
   "mimetype": "text/x-python",
   "name": "python",
   "nbconvert_exporter": "python",
   "pygments_lexer": "ipython2",
   "version": "2.7.6"
  }
 },
 "nbformat": 4,
 "nbformat_minor": 0
}
